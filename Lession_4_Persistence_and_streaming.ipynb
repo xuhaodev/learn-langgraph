{
 "cells": [
  {
   "cell_type": "code",
   "execution_count": 3,
   "id": "7376a26b",
   "metadata": {},
   "outputs": [
    {
     "name": "stderr",
     "output_type": "stream",
     "text": [
      "/tmp/ipykernel_9086/2689330143.py:16: LangChainDeprecationWarning: The class `TavilySearchResults` was deprecated in LangChain 0.3.25 and will be removed in 1.0. An updated version of the class exists in the :class:`~langchain-tavily package and should be used instead. To use it run `pip install -U :class:`~langchain-tavily` and import as `from :class:`~langchain_tavily import TavilySearch``.\n",
      "  tool = TavilySearchResults(max_results=2)\n"
     ]
    }
   ],
   "source": [
    "from dotenv import load_dotenv\n",
    "import os\n",
    "_ = load_dotenv()\n",
    "\n",
    "from langgraph.graph import StateGraph, END\n",
    "from typing import TypedDict, Annotated\n",
    "import operator\n",
    "from langchain_core.messages import AnyMessage, SystemMessage, HumanMessage, ToolMessage\n",
    "from langchain_openai import ChatOpenAI\n",
    "from langchain_community.tools.tavily_search import TavilySearchResults\n",
    "\n",
    "token = os.environ[\"GITHUB_TOKEN\"]\n",
    "endpoint = \"https://models.github.ai/inference\"\n",
    "model = \"openai/gpt-4.1\"\n",
    "\n",
    "tool = TavilySearchResults(max_results=2)"
   ]
  },
  {
   "cell_type": "code",
   "execution_count": 4,
   "id": "21fa6af9",
   "metadata": {},
   "outputs": [],
   "source": [
    "class AgentState(TypedDict):\n",
    "    messages: Annotated[list[AnyMessage], operator.add]\n",
    "\n",
    "from langgraph.checkpoint.sqlite import SqliteSaver\n",
    "\n",
    "memory = SqliteSaver.from_conn_string(\":memory:\")\n",
    "\n",
    "class Agent:\n",
    "    def __init__(self, model, tools, checkpointer, system=\"\"):\n",
    "        self.system = system\n",
    "        graph = StateGraph(AgentState)\n",
    "        graph.add_node(\"llm\", self.call_openai)\n",
    "        graph.add_node(\"action\", self.take_action)\n",
    "        graph.add_conditional_edges(\"llm\", self.exists_action, {True: \"action\", False: END})\n",
    "        graph.add_edge(\"action\", \"llm\")\n",
    "        graph.set_entry_point(\"llm\")\n",
    "        self.graph = graph.compile(checkpointer=checkpointer)\n",
    "        self.tools = {t.name: t for t in tools}\n",
    "        self.model = model.bind_tools(tools)\n",
    "\n",
    "    def call_openai(self, state: AgentState):\n",
    "        messages = state['messages']\n",
    "        if self.system:\n",
    "            messages = [SystemMessage(content=self.system)] + messages\n",
    "        message = self.model.invoke(messages)\n",
    "        return {'messages': [message]}\n",
    "\n",
    "    def exists_action(self, state: AgentState):\n",
    "        result = state['messages'][-1]\n",
    "        return len(result.tool_calls) > 0\n",
    "\n",
    "    def take_action(self, state: AgentState):\n",
    "        tool_calls = state['messages'][-1].tool_calls\n",
    "        results = []\n",
    "        for t in tool_calls:\n",
    "            print(f\"Calling: {t}\")\n",
    "            result = self.tools[t['name']].invoke(t['args'])\n",
    "            results.append(ToolMessage(tool_call_id=t['id'], name=t['name'], content=str(result)))\n",
    "        print(\"Back to the model!\")\n",
    "        return {'messages': results}\n",
    "\n"
   ]
  },
  {
   "cell_type": "code",
   "execution_count": null,
   "id": "43fb0a0b",
   "metadata": {},
   "outputs": [
    {
     "name": "stdout",
     "output_type": "stream",
     "text": [
      "[AIMessage(content='', additional_kwargs={'tool_calls': [{'id': 'call_NI2gUyiNBpNiiJUdhzqQ5r0R', 'function': {'arguments': '{\"query\":\"current weather in San Francisco\"}', 'name': 'tavily_search_results_json'}, 'type': 'function'}], 'refusal': None}, response_metadata={'token_usage': {'completion_tokens': 23, 'prompt_tokens': 155, 'total_tokens': 178, 'completion_tokens_details': {'accepted_prediction_tokens': 0, 'audio_tokens': 0, 'reasoning_tokens': 0, 'rejected_prediction_tokens': 0}, 'prompt_tokens_details': {'audio_tokens': 0, 'cached_tokens': 0}}, 'model_name': 'gpt-4.1-2025-04-14', 'system_fingerprint': 'fp_b663f05c2c', 'id': 'chatcmpl-ByuFWN7rKwiNYD1WR8uyMaE8KCpsc', 'service_tier': None, 'finish_reason': 'tool_calls', 'logprobs': None}, id='run--d139b789-4e18-4efa-9895-6d6a47a8f05e-0', tool_calls=[{'name': 'tavily_search_results_json', 'args': {'query': 'current weather in San Francisco'}, 'id': 'call_NI2gUyiNBpNiiJUdhzqQ5r0R', 'type': 'tool_call'}], usage_metadata={'input_tokens': 155, 'output_tokens': 23, 'total_tokens': 178, 'input_token_details': {'audio': 0, 'cache_read': 0}, 'output_token_details': {'audio': 0, 'reasoning': 0}})]\n",
      "Calling: {'name': 'tavily_search_results_json', 'args': {'query': 'current weather in San Francisco'}, 'id': 'call_NI2gUyiNBpNiiJUdhzqQ5r0R', 'type': 'tool_call'}\n",
      "Back to the model!\n",
      "[ToolMessage(content=\"[{'title': 'San Francisco weather in July 2025 | Weather25.com', 'url': 'https://www.weather25.com/north-america/usa/california/san-francisco?page=month&month=July', 'content': 'weather25.com\\\\nSearch\\\\nweather in United States\\\\nRemove from your favorite locations\\\\nAdd to my locations\\\\nShare\\\\nweather in United States\\\\n\\\\n# San Francisco weather in July 2025\\\\n\\\\nMist\\\\nOvercast\\\\nMist\\\\nFog\\\\nClear\\\\nClear\\\\nSunny\\\\nClear\\\\nSunny\\\\nPatchy rain possible\\\\nClear\\\\nClear\\\\nClear\\\\nClear\\\\n\\\\n## The average weather in San Francisco in July\\\\n\\\\nThe temperatures in San Francisco in July are comfortable with low of 14°C and and high up to 25°C. [...] Cloudy\\\\nPartly cloudy\\\\nSunny\\\\nSunny\\\\nSunny\\\\nSunny\\\\nMist\\\\nSunny\\\\nPartly cloudy\\\\nPartly cloudy\\\\nSunny\\\\nSunny\\\\nPartly cloudy\\\\nPartly cloudy\\\\nPartly cloudy\\\\nSunny\\\\nPartly cloudy\\\\nPartly cloudy\\\\nPartly cloudy\\\\nPartly cloudy\\\\nPartly cloudy\\\\nSunny\\\\nSunny\\\\nSunny\\\\nPartly cloudy\\\\nSunny\\\\nSunny\\\\nSunny\\\\nMist\\\\nOvercast\\\\nMist\\\\n\\\\n## Explore the weather in San Francisco in other months\\\\n\\\\n## San Francisco annual weather [...] | 13 Partly cloudy 19° /12° | 14 Partly cloudy 20° /13° | 15 Partly cloudy 20° /13° | 16 Sunny 20° /13° | 17 Partly cloudy 20° /12° | 18 Partly cloudy 20° /13° | 19 Partly cloudy 19° /13° |\\\\n| 20 Partly cloudy 19° /13° | 21 Partly cloudy 19° /12° | 22 Sunny 20° /13° | 23 Sunny 20° /14° | 24 Sunny 21° /13° | 25 Partly cloudy 20° /13° | 26 Sunny 19° /13° |\\\\n| 27 Sunny 21° /13° | 28 Sunny 20° /14° | 29 Mist 16° /13° | 30 Overcast 15° /13° | 31 Mist 16° /14° |  |  |', 'score': 0.84707206}, {'title': 'Weather Forecast and Conditions for San Francisco, CA', 'url': 'https://weather.com/weather/today/l/USCA0987:1:US', 'content': 'Cloudy skies early, followed by partial clearing. High 68F. Winds WSW at 10 to 20 mph.\\\\n\\\\n## Night\\\\n\\\\nA few clouds. Low 56F. Winds WSW at 10 to 20 mph.\\\\n\\\\n## Product Reviews & Deals\\\\n\\\\nundefined\\\\n\\\\nLinen, Polyester Or Cotton: What To Buy In The Summer To Stay Cool\\\\n\\\\nundefined\\\\n\\\\n17 Popular Sun Shirts For Men And Women\\\\n\\\\nundefined\\\\n\\\\n6 Generators Still On Sale (As Low As Prime Day)\\\\n\\\\nundefined\\\\n\\\\nBest Sunscreen Of 2025: Our Top 10 Picks\\\\n\\\\n## Radar\\\\n\\\\n## Health & Activities [...] Mostly cloudy skies. Expect mist and reduced visibilities at times. High near 65F. Winds WSW at 15 to 25 mph.\\\\n\\\\n## Night\\\\n\\\\nCloudy. Expect mist and reduced visibilities at times. Low 57F. Winds WSW at 10 to 20 mph.\\\\n\\\\n## Thu 31\\\\n\\\\n## Day\\\\n\\\\nCloudy skies early, then partly cloudy in the afternoon. Expect mist and reduced visibilities at times. High 67F. Winds WSW at 10 to 20 mph.\\\\n\\\\n## Night\\\\n\\\\nOvercast. Expect mist and reduced visibilities at times. Low 57F. Winds WSW at 10 to 20 mph.\\\\n\\\\n## Fri 01\\\\n\\\\n## Day [...] # San Francisco, CA Weather\\\\n\\\\n# San Francisco, CA\\\\n\\\\n## Special Weather Statement\\\\n\\\\n## Weather Today in San Francisco, CA\\\\n\\\\n6:11 am\\\\n\\\\n8:20 pm\\\\n\\\\n# Hourly Weather-San Francisco, CA\\\\n\\\\n## Now\\\\n\\\\nCloudy\\\\n\\\\n## 1 am\\\\n\\\\nCloudy\\\\n\\\\n## 2 am\\\\n\\\\nCloudy\\\\n\\\\n## 3 am\\\\n\\\\nFoggy\\\\n\\\\nChart small gif\\\\n\\\\n## Latest News\\\\n\\\\n# 10 Day Weather-San Francisco, CA\\\\n\\\\n## Tonight\\\\n\\\\n## Night\\\\n\\\\nCloudy this evening. Fog developing late. Low 56F. Winds WSW at 10 to 20 mph.\\\\n\\\\n## Wed 30\\\\n\\\\n## Day', 'score': 0.46701634}]\", name='tavily_search_results_json', tool_call_id='call_NI2gUyiNBpNiiJUdhzqQ5r0R')]\n",
      "[AIMessage(content='The current weather in San Francisco is mostly cloudy, with high temperatures around 65–68°F (18–20°C) and lows near 56–57°F (13–14°C). Winds are from the west-southwest at 10 to 20 mph. There may also be mist and reduced visibility at times, especially at night.', additional_kwargs={'refusal': None}, response_metadata={'token_usage': {'completion_tokens': 72, 'prompt_tokens': 1194, 'total_tokens': 1266, 'completion_tokens_details': {'accepted_prediction_tokens': 0, 'audio_tokens': 0, 'reasoning_tokens': 0, 'rejected_prediction_tokens': 0}, 'prompt_tokens_details': {'audio_tokens': 0, 'cached_tokens': 0}}, 'model_name': 'gpt-4.1-2025-04-14', 'system_fingerprint': 'fp_b663f05c2c', 'id': 'chatcmpl-ByuG6KoyQxl6DyJ5BnQs4yKnlwqTW', 'service_tier': None, 'finish_reason': 'stop', 'logprobs': None}, id='run--3283d62e-4358-4584-b351-d8388ba33a80-0', usage_metadata={'input_tokens': 1194, 'output_tokens': 72, 'total_tokens': 1266, 'input_token_details': {'audio': 0, 'cache_read': 0}, 'output_token_details': {'audio': 0, 'reasoning': 0}})]\n",
      "[AIMessage(content=\"Could you please clarify what you are comparing? Are you asking which city, country, object, or something else is warmer? Let me know what you want to compare, and I'll be happy to help!\", additional_kwargs={'refusal': None}, response_metadata={'token_usage': {'completion_tokens': 43, 'prompt_tokens': 153, 'total_tokens': 196, 'completion_tokens_details': {'accepted_prediction_tokens': 0, 'audio_tokens': 0, 'reasoning_tokens': 0, 'rejected_prediction_tokens': 0}, 'prompt_tokens_details': {'audio_tokens': 0, 'cached_tokens': 0}}, 'model_name': 'gpt-4.1-2025-04-14', 'system_fingerprint': 'fp_b663f05c2c', 'id': 'chatcmpl-ByuG7BuAHkgwE8OR9gWorgnQIiq6U', 'service_tier': None, 'finish_reason': 'stop', 'logprobs': None}, id='run--8f5a675d-6a0c-408d-b413-54c5b23c876f-0', usage_metadata={'input_tokens': 153, 'output_tokens': 43, 'total_tokens': 196, 'input_token_details': {'audio': 0, 'cache_read': 0}, 'output_token_details': {'audio': 0, 'reasoning': 0}})]\n"
     ]
    }
   ],
   "source": [
    "# Usage - use the context manager properly:  \n",
    "with SqliteSaver.from_conn_string(\":memory:\") as memory:  \n",
    "    prompt = \"\"\"You are a smart research assistant. Use the search engine to look up information. \\\n",
    "    You are allowed to make multiple calls (either together or in sequence). \\\n",
    "    Only look up information when you are sure of what you want. \\\n",
    "    If you need to look up some information before asking a follow up question, you are allowed to do that!\n",
    "    \"\"\"\n",
    "    model = ChatOpenAI(\n",
    "        base_url=endpoint,\n",
    "        api_key=token,\n",
    "        model=\"openai/gpt-4.1\",\n",
    "    )  #reduce inference cost\n",
    "\n",
    "    abot = Agent(model, [tool], system=prompt, checkpointer=memory)\n",
    "      \n",
    "    # Now you can use abot.graph for streaming  \n",
    "    messages = [HumanMessage(content=\"What is the weather in sf?\")]  \n",
    "    thread = {\"configurable\": {\"thread_id\": \"1\"}}  \n",
    "      \n",
    "    for event in abot.graph.stream({\"messages\": messages}, thread):  \n",
    "        for v in event.values():  \n",
    "            print(v['messages'])\n",
    "\n",
    "    # messages = [HumanMessage(content=\"Which one is warmer?\")]\n",
    "    # thread = {\"configurable\": {\"thread_id\": \"1\"}}\n",
    "    # for event in abot.graph.stream({\"messages\": messages}, thread):\n",
    "    #     for v in event.values():\n",
    "    #         print(v)\n",
    "        \n",
    "    # messages = [HumanMessage(content=\"Which one is warmer?\")]\n",
    "    # thread = {\"configurable\": {\"thread_id\": \"2\"}}\n",
    "    # for event in abot.graph.stream({\"messages\": messages}, thread):\n",
    "    #     for v in event.values():\n",
    "    #         print(v['messages'])"
   ]
  },
  {
   "cell_type": "code",
   "execution_count": 6,
   "id": "90690510",
   "metadata": {},
   "outputs": [
    {
     "name": "stdout",
     "output_type": "stream",
     "text": [
      "Calling: {'name': 'tavily_search_results_json', 'args': {'query': 'current weather in San Francisco'}, 'id': 'call_JALlVNYm0lk74EsJRlYJSNaN', 'type': 'tool_call'}\n",
      "Back to the model!\n",
      "The| current| weather| in| San| Francisco| is| generally| mild| and| partly| cloudy|.| Day|time| temperatures| are| typically| around| |19|°C|-|21|°C| (|66|°F|-|70|°F|),| with| lows| near| |13|°C| (|55|°F|).| There| may| be| some| mist| or| over|cast| in| the| mornings|,| but| it| often| clears| up| to| be| partly| cloudy| or| sunny| during| the| day|.\n",
      "\n",
      "|Would| you| like| a| live| weather| update| or| a| forecast| for| a| specific| day|?|"
     ]
    }
   ],
   "source": [
    "from langgraph.checkpoint.sqlite.aio import AsyncSqliteSaver\n",
    "\n",
    "async with AsyncSqliteSaver.from_conn_string(\":memory:\") as memory:\n",
    "\n",
    "    abot = Agent(model, [tool], system=prompt, checkpointer=memory)\n",
    "\n",
    "    messages = [HumanMessage(content=\"What is the weather in SF?\")]\n",
    "\n",
    "    thread = {\"configurable\": {\"thread_id\": \"4\"}}\n",
    "\n",
    "    async for event in abot.graph.astream_events({\"messages\": messages}, thread, version=\"v1\"):\n",
    "        kind = event[\"event\"]\n",
    "        if kind == \"on_chat_model_stream\":\n",
    "            content = event[\"data\"][\"chunk\"].content\n",
    "            if content:\n",
    "                # Empty content in the context of OpenAI means\n",
    "                # that the model is asking for a tool to be invoked.\n",
    "                # So we only print non-empty content\n",
    "                print(content, end=\"|\")"
   ]
  }
 ],
 "metadata": {
  "kernelspec": {
   "display_name": "venv (3.13.5)",
   "language": "python",
   "name": "python3"
  },
  "language_info": {
   "codemirror_mode": {
    "name": "ipython",
    "version": 3
   },
   "file_extension": ".py",
   "mimetype": "text/x-python",
   "name": "python",
   "nbconvert_exporter": "python",
   "pygments_lexer": "ipython3",
   "version": "3.13.5"
  }
 },
 "nbformat": 4,
 "nbformat_minor": 5
}
