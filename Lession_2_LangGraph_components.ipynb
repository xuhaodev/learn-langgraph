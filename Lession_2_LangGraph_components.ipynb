{
 "cells": [
  {
   "cell_type": "markdown",
   "id": "e833e760",
   "metadata": {},
   "source": [
    "- pip install langgraph\n",
    "- pip install langchain       \n",
    "- pip install langchain-openai   \n",
    "- pip install langchain-community"
   ]
  },
  {
   "cell_type": "code",
   "execution_count": 11,
   "id": "efd65aad",
   "metadata": {},
   "outputs": [
    {
     "name": "stdout",
     "output_type": "stream",
     "text": [
      "<class 'langchain_community.tools.tavily_search.tool.TavilySearchResults'>\n",
      "tavily_search_results_json\n"
     ]
    }
   ],
   "source": [
    "from dotenv import load_dotenv\n",
    "import os\n",
    "# 从 .env 文件加载环境变量\n",
    "load_dotenv()\n",
    "\n",
    "from langgraph.graph import StateGraph, END\n",
    "from typing import TypedDict, Annotated\n",
    "import operator\n",
    "from langchain_core.messages import AnyMessage, SystemMessage, HumanMessage, ToolMessage\n",
    "from langchain_openai import ChatOpenAI\n",
    "from langchain_community.tools.tavily_search import TavilySearchResults\n",
    "\n",
    "token = os.environ[\"GITHUB_TOKEN\"]\n",
    "endpoint = \"https://models.github.ai/inference\"\n",
    "model = \"openai/gpt-4.1\"\n",
    "\n",
    "tool = TavilySearchResults(max_results=4) #increased number of results\n",
    "print(type(tool))\n",
    "print(tool.name)"
   ]
  },
  {
   "cell_type": "markdown",
   "id": "1bef1af7",
   "metadata": {},
   "source": [
    "\n",
    " `AgentState` 类定义了整个Agent系统的**状态结构**，它是所有节点之间共享数据的核心容器。可以把它想象成Agent的\"记忆系统\"或\"信息载体\"，在整个工作流程中传递和更新数据。\n",
    "\n",
    "`AgentState` 继承自 `TypedDict`，这是Python中一种特殊的字典类型，它为字典的键值对提供了类型注解。这样做的好处是既保持了字典的灵活性，又增加了类型安全性，让IDE和类型检查工具能够帮助我们发现潜在的错误。\n",
    "\n",
    "类中只定义了一个字段 `messages`，它的类型是 `Annotated[list[AnyMessage], operator.add]`。这个复杂的类型注解包含了三个重要信息：首先，`list[AnyMessage]` 表示这是一个消息列表，其中每个元素都是 `AnyMessage` 类型（可以是用户消息、AI回复、系统消息或工具消息等）；其次，`Annotated` 是Python的类型注解工具，允许我们为类型添加额外的元数据；最后，`operator.add` 是关键的元数据，它告诉LangGraph当多个节点返回消息时应该如何合并它们。\n",
    "\n",
    "`operator.add` 的作用非常重要。当不同的节点（比如AI思考节点或工具执行节点）都返回新的消息时，LangGraph会自动使用加法运算符（`+`）来合并这些消息列表。例如，如果当前状态有 `[消息1, 消息2]`，而某个节点返回 `[消息3]`，那么最终状态会变成 `[消息1, 消息2, 消息3]`。这种自动合并机制确保了对话历史的连续性和完整性。\n",
    "\n",
    "这种设计使得Agent能够在每个处理步骤中都保持完整的上下文信息。无论是AI模型需要回顾之前的对话来做出决策，还是工具执行完毕后需要将结果添加到对话历史中，这个状态结构都能够无缝地支持这些操作，为整个Agent系统提供了可靠的数据流转基础。"
   ]
  },
  {
   "cell_type": "code",
   "execution_count": 12,
   "id": "a7936450",
   "metadata": {},
   "outputs": [],
   "source": [
    "class AgentState(TypedDict):\n",
    "    messages: Annotated[list[AnyMessage], operator.add]"
   ]
  },
  {
   "cell_type": "markdown",
   "id": "f32cf7a8",
   "metadata": {},
   "source": [
    "> Note: in `take_action` below, some logic was added to cover the case that the LLM returned a non-existent tool name. Even with function calling, LLMs can still occasionally hallucinate. Note that all that is done is instructing the LLM to try again! An advantage of an agentic organization."
   ]
  },
  {
   "cell_type": "markdown",
   "id": "5f8b1213",
   "metadata": {},
   "source": [
    "\n",
    "## LangGraph Agent整体概述\n",
    "\n",
    "这个 `Agent` 类创建了一个**工作流图**，让AI模型能够：\n",
    "1. 思考问题\n",
    "2. 决定是否需要使用工具\n",
    "3. 执行工具\n",
    "4. 根据结果继续思考\n",
    "\n",
    "就像人类解决问题的过程一样！\n",
    "\n",
    "## 详细分析\n",
    "\n",
    "### 1. 初始化方法 (`__init__`)\n",
    "\n",
    "```python\n",
    "def __init__(self, model, tools, system=\"\"):\n",
    "    self.system = system  # 系统提示词，告诉AI它的角色\n",
    "    \n",
    "    # 创建状态图 - 这是整个工作流的基础\n",
    "    graph = StateGraph(AgentState)\n",
    "    \n",
    "    # 添加两个核心节点\n",
    "    graph.add_node(\"llm\", self.call_openai)      # AI思考节点\n",
    "    graph.add_node(\"action\", self.take_action)   # 工具执行节点\n",
    "    \n",
    "    # 添加条件分支 - AI决定下一步做什么\n",
    "    graph.add_conditional_edges(\n",
    "        \"llm\",                    # 从AI节点出发\n",
    "        self.exists_action,       # 判断函数：是否需要使用工具？\n",
    "        {True: \"action\", False: END}  # True=去执行工具，False=结束\n",
    "    )\n",
    "    \n",
    "    # 工具执行完后，回到AI继续思考\n",
    "    graph.add_edge(\"action\", \"llm\")\n",
    "    \n",
    "    # 设置入口点 - 从AI开始\n",
    "    graph.set_entry_point(\"llm\")\n",
    "    \n",
    "    # 编译图并准备工具\n",
    "    self.graph = graph.compile()\n",
    "    self.tools = {t.name: t for t in tools}  # 工具字典，方便查找\n",
    "    self.model = model.bind_tools(tools)     # 让模型知道可用工具\n",
    "\n",
    "```\n",
    "\n",
    "\n",
    "\n",
    "**关键概念解释：**\n",
    "- **StateGraph**: 想象成一个流程图，定义了AI的工作步骤\n",
    "- **节点 (node)**: 流程图中的每个步骤/功能\n",
    "- **边 (edge)**: 连接节点的箭头，决定执行顺序\n",
    "- **条件边**: 根据条件选择不同的下一步\n",
    "\n",
    "### 2. 判断是否需要工具 (`exists_action`)\n",
    "\n",
    "```python\n",
    "def exists_action(self, state: AgentState):\n",
    "    result = state['messages'][-1]  # 获取最新消息\n",
    "    return len(result.tool_calls) > 0  # 检查是否有工具调用请求\n",
    "\n",
    "```\n",
    "\n",
    "\n",
    "这个函数像一个**决策器**：\n",
    "- 查看AI的最新回复\n",
    "- 如果AI想使用工具 → 返回 `True`\n",
    "- 如果AI只是普通回复 → 返回 `False`\n",
    "\n",
    "### 3. AI思考节点 (`call_openai`)\n",
    "\n",
    "```python\n",
    "def call_openai(self, state: AgentState):\n",
    "    messages = state['messages']  # 获取对话历史\n",
    "    \n",
    "    # 如果有系统提示词，添加到消息开头\n",
    "    if self.system:\n",
    "        messages = [SystemMessage(content=self.system)] + messages\n",
    "    \n",
    "    # 调用AI模型获取回复\n",
    "    message = self.model.invoke(messages)\n",
    "    return {'messages': [message]}  # 返回新消息\n",
    "\n",
    "```\n",
    "\n",
    "\n",
    "**工作流程：**\n",
    "1. 收集到目前为止的所有对话\n",
    "2. 添加系统角色设定（如果有）\n",
    "3. 让AI模型思考并生成回复\n",
    "4. 回复可能包含文字答案或工具使用请求\n",
    "\n",
    "### 4. 工具执行节点 (`take_action`)\n",
    "\n",
    "```python\n",
    "def take_action(self, state: AgentState):\n",
    "    tool_calls = state['messages'][-1].tool_calls  # 获取工具调用请求\n",
    "    results = []\n",
    "    \n",
    "    for t in tool_calls:  # 遍历每个工具调用\n",
    "        print(f\"Calling: {t}\")\n",
    "        \n",
    "        # 安全检查：工具名称是否存在\n",
    "        if not t['name'] in self.tools:\n",
    "            print(\"\\n ....bad tool name....\")\n",
    "            result = \"bad tool name, retry\"  # 告诉AI重试\n",
    "        else:\n",
    "            # 执行工具并获取结果\n",
    "            result = self.tools[t['name']].invoke(t['args'])\n",
    "        \n",
    "        # 创建工具结果消息\n",
    "        results.append(ToolMessage(\n",
    "            tool_call_id=t['id'], \n",
    "            name=t['name'], \n",
    "            content=str(result)\n",
    "        ))\n",
    "    \n",
    "    print(\"Back to the model!\")\n",
    "    return {'messages': results}  # 返回所有工具执行结果\n",
    "```\n",
    "\n",
    "\n",
    "**关键安全特性：**\n",
    "- **错误处理**: 如果AI请求不存在的工具，会友好地告诉它重试\n",
    "- **多工具支持**: 可以同时执行多个工具\n",
    "- **结果追踪**: 每个工具结果都有唯一ID，确保AI知道哪个结果对应哪个请求\n",
    "\n",
    "## 执行流程示例\n",
    "\n",
    "假设用户问：\"今天天气如何？\"\n",
    "\n",
    "1. 用户输入 → Agent\n",
    "2. \"llm\"节点: AI思考 → \"我需要查询天气工具\"\n",
    "3. exists_action: 发现有工具调用 → 路由到\"action\"\n",
    "4. \"action\"节点: 执行天气查询工具 → 获取天气数据\n",
    "5. 自动回到\"llm\"节点: AI整理结果 → \"今天晴天，温度25°C\"\n",
    "6. exists_action: 无更多工具调用 → 结束(END)\n",
    "\n",
    "\n",
    "## 设计优势\n",
    "\n",
    "1. **模块化**: 思考和行动分离，便于维护\n",
    "2. **可扩展**: 可以轻松添加新工具\n",
    "3. **鲁棒性**: 有错误处理机制\n",
    "4. **循环能力**: AI可以多次使用工具直到解决问题\n",
    "5. **状态管理**: 保持完整的对话历史\n",
    "\n"
   ]
  },
  {
   "cell_type": "code",
   "execution_count": 13,
   "id": "b0ff3413",
   "metadata": {},
   "outputs": [],
   "source": [
    "class Agent:\n",
    "\n",
    "    def __init__(self, model, tools, system=\"\"):\n",
    "        self.system = system\n",
    "        graph = StateGraph(AgentState)\n",
    "        graph.add_node(\"llm\", self.call_openai)\n",
    "        graph.add_node(\"action\", self.take_action)\n",
    "        graph.add_conditional_edges(\n",
    "            \"llm\",\n",
    "            self.exists_action,\n",
    "            {True: \"action\", False: END}\n",
    "        )\n",
    "        graph.add_edge(\"action\", \"llm\")\n",
    "        graph.set_entry_point(\"llm\")\n",
    "        self.graph = graph.compile()\n",
    "        self.tools = {t.name: t for t in tools}\n",
    "        self.model = model.bind_tools(tools)\n",
    "\n",
    "    def exists_action(self, state: AgentState):\n",
    "        result = state['messages'][-1]\n",
    "        return len(result.tool_calls) > 0\n",
    "\n",
    "    def call_openai(self, state: AgentState):\n",
    "        messages = state['messages']\n",
    "        if self.system:\n",
    "            messages = [SystemMessage(content=self.system)] + messages\n",
    "        message = self.model.invoke(messages)\n",
    "        return {'messages': [message]}\n",
    "\n",
    "    def take_action(self, state: AgentState):\n",
    "        tool_calls = state['messages'][-1].tool_calls\n",
    "        results = []\n",
    "        for t in tool_calls:\n",
    "            print(f\"Calling: {t}\")\n",
    "            if not t['name'] in self.tools:      # check for bad tool name from LLM\n",
    "                print(\"\\n ....bad tool name....\")\n",
    "                result = \"bad tool name, retry\"  # instruct LLM to retry if bad\n",
    "            else:\n",
    "                result = self.tools[t['name']].invoke(t['args'])\n",
    "            results.append(ToolMessage(tool_call_id=t['id'], name=t['name'], content=str(result)))\n",
    "        print(\"Back to the model!\")\n",
    "        return {'messages': results}"
   ]
  },
  {
   "cell_type": "code",
   "execution_count": 20,
   "id": "fd0bb35c",
   "metadata": {},
   "outputs": [],
   "source": [
    "prompt = \"\"\"You are a smart research assistant. Use the search engine to look up information. \\\n",
    "You are allowed to make multiple calls (either together or in sequence). \\\n",
    "Only look up information when you are sure of what you want. \\\n",
    "If you need to look up some information before asking a follow up question, you are allowed to do that!\n",
    "\"\"\"\n",
    "\n",
    "model = ChatOpenAI(\n",
    "    base_url=endpoint,\n",
    "    api_key=token,\n",
    "    model=\"openai/gpt-4.1\",\n",
    ")  #reduce inference cost\n",
    "abot = Agent(model, [tool], system=prompt)"
   ]
  },
  {
   "cell_type": "code",
   "execution_count": 15,
   "id": "ea81541e",
   "metadata": {},
   "outputs": [
    {
     "data": {
      "image/png": "[encoded data removed]",
      "text/plain": [
       "<IPython.core.display.Image object>"
      ]
     },
     "execution_count": 15,
     "metadata": {},
     "output_type": "execute_result"
    }
   ],
   "source": [
    "from IPython.display import Image\n",
    "\n",
    "Image(abot.graph.get_graph().draw_png())"
   ]
  },
  {
   "cell_type": "code",
   "execution_count": 21,
   "id": "e75d2c78",
   "metadata": {},
   "outputs": [
    {
     "name": "stdout",
     "output_type": "stream",
     "text": [
      "Calling: {'name': 'tavily_search_results_json', 'args': {'query': 'current weather in San Francisco'}, 'id': 'call_bDJsEiNs2eq092XvXatrT9Gk', 'type': 'tool_call'}\n",
      "Back to the model!\n"
     ]
    }
   ],
   "source": [
    "messages = [HumanMessage(content=\"What is the weather in sf?\")]\n",
    "result = abot.graph.invoke({\"messages\": messages})"
   ]
  },
  {
   "cell_type": "code",
   "execution_count": 24,
   "id": "87766ea5",
   "metadata": {},
   "outputs": [
    {
     "data": {
      "text/plain": [
       "{'messages': [HumanMessage(content='What is the weather in sf?', additional_kwargs={}, response_metadata={}),\n",
       "  AIMessage(content='', additional_kwargs={'tool_calls': [{'id': 'call_FHWIrtJevt8oZCf4wtuJTAXK', 'function': {'arguments': '{\"query\":\"current weather in San Francisco\"}', 'name': 'tavily_search_results_json'}, 'type': 'function'}], 'refusal': None}, response_metadata={'token_usage': {'completion_tokens': 23, 'prompt_tokens': 151, 'total_tokens': 174, 'completion_tokens_details': {'accepted_prediction_tokens': 0, 'audio_tokens': 0, 'reasoning_tokens': 0, 'rejected_prediction_tokens': 0}, 'prompt_tokens_details': {'audio_tokens': 0, 'cached_tokens': 0}}, 'model_name': 'gpt-4.1-2025-04-14', 'system_fingerprint': 'fp_b663f05c2c', 'id': 'chatcmpl-ByqEznVSjGgEK7jp6GSDKAd4Sj6e1', 'service_tier': None, 'finish_reason': 'tool_calls', 'logprobs': None}, id='run--67d3a4a3-74cd-4f80-96c6-5c7e46126be8-0', tool_calls=[{'name': 'tavily_search_results_json', 'args': {'query': 'current weather in San Francisco'}, 'id': 'call_FHWIrtJevt8oZCf4wtuJTAXK', 'type': 'tool_call'}], usage_metadata={'input_tokens': 151, 'output_tokens': 23, 'total_tokens': 174, 'input_token_details': {'audio': 0, 'cache_read': 0}, 'output_token_details': {'audio': 0, 'reasoning': 0}}),\n",
       "  ToolMessage(content=\"[{'title': 'San Francisco weather in July 2025 | Weather25.com', 'url': 'https://www.weather25.com/north-america/usa/california/san-francisco?page=month&month=July', 'content': 'weather25.com\\\\nSearch\\\\nweather in United States\\\\nRemove from your favorite locations\\\\nAdd to my locations\\\\nShare\\\\nweather in United States\\\\n\\\\n# San Francisco weather in July 2025\\\\n\\\\nMist\\\\nOvercast\\\\nMist\\\\nFog\\\\nClear\\\\nClear\\\\nSunny\\\\nClear\\\\nSunny\\\\nPatchy rain possible\\\\nClear\\\\nClear\\\\nClear\\\\nClear\\\\n\\\\n## The average weather in San Francisco in July\\\\n\\\\nThe temperatures in San Francisco in July are comfortable with low of 14°C and and high up to 25°C. [...] Cloudy\\\\nPartly cloudy\\\\nSunny\\\\nSunny\\\\nSunny\\\\nSunny\\\\nMist\\\\nSunny\\\\nPartly cloudy\\\\nPartly cloudy\\\\nSunny\\\\nSunny\\\\nPartly cloudy\\\\nPartly cloudy\\\\nPartly cloudy\\\\nSunny\\\\nPartly cloudy\\\\nPartly cloudy\\\\nPartly cloudy\\\\nPartly cloudy\\\\nPartly cloudy\\\\nSunny\\\\nSunny\\\\nSunny\\\\nPartly cloudy\\\\nSunny\\\\nSunny\\\\nSunny\\\\nMist\\\\nOvercast\\\\nMist\\\\n\\\\n## Explore the weather in San Francisco in other months\\\\n\\\\n## San Francisco annual weather [...] | 13 Partly cloudy 19° /12° | 14 Partly cloudy 20° /13° | 15 Partly cloudy 20° /13° | 16 Sunny 20° /13° | 17 Partly cloudy 20° /12° | 18 Partly cloudy 20° /13° | 19 Partly cloudy 19° /13° |\\\\n| 20 Partly cloudy 19° /13° | 21 Partly cloudy 19° /12° | 22 Sunny 20° /13° | 23 Sunny 20° /14° | 24 Sunny 21° /13° | 25 Partly cloudy 20° /13° | 26 Sunny 19° /13° |\\\\n| 27 Sunny 21° /13° | 28 Sunny 20° /14° | 29 Mist 16° /13° | 30 Overcast 15° /13° | 31 Mist 16° /14° |  |  |', 'score': 0.84707206}, {'title': 'Live Doppler 7 | Bay Area Weather News - ABC7 San Francisco', 'url': 'https://abc7news.com/weather/', 'content': 'KAMCHATKA.\\\\nESTIMATED ARRIVAL TIMES FOR THE FIRST IN THE SERIES OF TSUNAMI\\\\nWAVES ARE AS FOLLOWS IN PACIFIC DAYLIGHT TIME. SAN FRANCISCO\\\\nCALIFORNIA ON JULY 30 AT 1240 AM.\\\\nONCE AGAIN, THE NATIONAL WEATHER SERVICE HAS ISSUED A TSUNAMI WATCH\\\\nFOR THE FOLLOWING LOCATIONS, COASTAL AREAS FROM SONOMA COUNTY\\\\nSOUTHWARD TO MONTEREY COUNTY INCLUDING THE BAY AREA COASTLINE. IF\\\\nYOU ARE LOCATED IN THIS COASTAL AREA, STAYALERT FOR FURTHER\\\\nUPDATES. STAY TUNED TO YOUR LOCAL NEWS SOURCE AND NOAA WEATHER RADIO [...] FOR FURTHER INFORMATION AND UPDATES....\\\\n\\\\\\\\ LOCAL IMPACTS...COASTAL AREAS FROM SONOMA COUNTY SOUTHWARD TO\\\\nMONTEREY COUNTY INCLUDING THE BAY AREA COASTLINE\\\\n\\\\\\\\ RECOMMENDED ACTIONS...\\\\nFor people in the watch area...If you are located in this\\\\ncoastal area, stay alert for further updates, as well as\\\\ninstructions from your local emergency officials.\\\\n\\\\\\\\ FORECAST TSUNAMI START TIMES...San Francisco Bay, Monterey Bay,\\\\nand Central Coast of California 1215 AM PDT on Jul 30 [...] marinas. Do not go to the coast to watch the tsunami. Be alert\\\\nto instructions from your local emergency officials\\\\n\\\\\\\\ FORECAST TSUNAMI START TIMES...\\\\nMonterey California 1215 AM PDT on Jul 30\\\\nSan Francisco California 1240 AM PDT on Jul 30\\\\nTsunamis often arrive as a series of waves or surges which\\\\ncould be dangerous for many hours after the first wave arrival.\\\\nThe first tsunami wave or surge may not be the highest in the series.\\\\n\\\\\\\\ FORECAST PEAK TSUNAMI WAVE HEIGHTS...', 'score': 0.5504388}, {'title': 'San Francisco, CA Weather Forecast - AccuWeather', 'url': 'https://www.accuweather.com/en/us/san-francisco/94103/weather-forecast/347629', 'content': 'Current Weather. 5:14 PM. 63°F. Partly sunny. RealFeel® 64° · Looking Ahead. Clouds and sun this weekend. San Francisco Weather Radar ... Weather Near San', 'score': 0.40910333}, {'title': 'San Francisco, CA Monthly Weather - AccuWeather', 'url': 'https://www.accuweather.com/en/us/san-francisco/94103/july-weather/347629', 'content': 'Get the monthly weather forecast for San Francisco, CA, including daily high/low, historical averages, to help you plan ahead.', 'score': 0.15475914}]\", name='tavily_search_results_json', tool_call_id='call_FHWIrtJevt8oZCf4wtuJTAXK'),\n",
       "  AIMessage(content='The current weather in San Francisco is about 63°F and partly sunny. The weekend is expected to have a mix of clouds and sun. If you need more detailed or current information, let me know!', additional_kwargs={'refusal': None}, response_metadata={'token_usage': {'completion_tokens': 43, 'prompt_tokens': 1299, 'total_tokens': 1342, 'completion_tokens_details': {'accepted_prediction_tokens': 0, 'audio_tokens': 0, 'reasoning_tokens': 0, 'rejected_prediction_tokens': 0}, 'prompt_tokens_details': {'audio_tokens': 0, 'cached_tokens': 0}}, 'model_name': 'gpt-4.1-2025-04-14', 'system_fingerprint': 'fp_b663f05c2c', 'id': 'chatcmpl-ByqF6gNeCdy1hDqnUJjWhwKMPmdvK', 'service_tier': None, 'finish_reason': 'stop', 'logprobs': None}, id='run--ae16f8f7-e33e-41f5-9495-0cec93aa9e55-0', usage_metadata={'input_tokens': 1299, 'output_tokens': 43, 'total_tokens': 1342, 'input_token_details': {'audio': 0, 'cache_read': 0}, 'output_token_details': {'audio': 0, 'reasoning': 0}})]}"
      ]
     },
     "execution_count": 24,
     "metadata": {},
     "output_type": "execute_result"
    }
   ],
   "source": [
    "result"
   ]
  },
  {
   "cell_type": "code",
   "execution_count": 25,
   "id": "a714cd19",
   "metadata": {},
   "outputs": [
    {
     "data": {
      "text/plain": [
       "'The current weather in San Francisco is about 63°F and partly sunny. The weekend is expected to have a mix of clouds and sun. If you need more detailed or current information, let me know!'"
      ]
     },
     "execution_count": 25,
     "metadata": {},
     "output_type": "execute_result"
    }
   ],
   "source": [
    "result['messages'][-1].content"
   ]
  },
  {
   "cell_type": "code",
   "execution_count": 26,
   "id": "ba8d4972",
   "metadata": {},
   "outputs": [
    {
     "name": "stdout",
     "output_type": "stream",
     "text": [
      "Calling: {'name': 'tavily_search_results_json', 'args': {'query': 'current weather in San Francisco'}, 'id': 'call_pfxsoLdB9nL1CJXrz562lFuM', 'type': 'tool_call'}\n",
      "Calling: {'name': 'tavily_search_results_json', 'args': {'query': 'current weather in Los Angeles'}, 'id': 'call_XHHZeNerEeq2z1WWRZhr3hAG', 'type': 'tool_call'}\n",
      "Back to the model!\n"
     ]
    }
   ],
   "source": [
    "messages = [HumanMessage(content=\"What is the weather in SF and LA?\")]\n",
    "result = abot.graph.invoke({\"messages\": messages})"
   ]
  },
  {
   "cell_type": "code",
   "execution_count": 27,
   "id": "a320c578",
   "metadata": {},
   "outputs": [
    {
     "data": {
      "text/plain": [
       "'Here is the current weather for both cities:\\n\\nSan Francisco (SF):\\n- Tonight: Partly cloudy with fog developing late, low around 56°F (13°C). Winds west at 15 to 25 mph.\\n- Tomorrow: Considerable cloudiness, mist possible, high around 65°F (18°C). Winds WSW at 15 to 25 mph.\\n\\nLos Angeles (LA):\\n- Tonight: Partly to mostly cloudy, low around 62°F (17°C). Winds light and variable.\\n- Tomorrow: Typically sunny and warm for July, highs around 82°F (28°C) and lows near 64°F (18°C).\\n\\nLet me know if you need more details or a longer forecast!'"
      ]
     },
     "execution_count": 27,
     "metadata": {},
     "output_type": "execute_result"
    }
   ],
   "source": [
    "result['messages'][-1].content"
   ]
  },
  {
   "cell_type": "code",
   "execution_count": 29,
   "id": "9aee22e8",
   "metadata": {},
   "outputs": [
    {
     "name": "stdout",
     "output_type": "stream",
     "text": [
      "Calling: {'name': 'tavily_search_results_json', 'args': {'query': 'Who won the Super Bowl in 2024?'}, 'id': 'call_mAhY0ZHa0ty9APWmHSbH0yrW', 'type': 'tool_call'}\n",
      "Calling: {'name': 'tavily_search_results_json', 'args': {'query': 'List of US states by GDP 2024'}, 'id': 'call_V8yamfbm5zpLHMJHMJ3FvuCr', 'type': 'tool_call'}\n",
      "Back to the model!\n"
     ]
    }
   ],
   "source": [
    "# Note, the query was modified to produce more consistent results. \n",
    "# Results may vary per run and over time as search information and models change.\n",
    "\n",
    "query = \"Who won the super bowl in 2024? In what state is the winning team headquarters located? \\\n",
    "What is the GDP of that state? Answer each question.\" \n",
    "messages = [HumanMessage(content=query)]\n",
    "\n",
    "abot = Agent(model, [tool], system=prompt)\n",
    "result = abot.graph.invoke({\"messages\": messages})"
   ]
  },
  {
   "cell_type": "code",
   "execution_count": 30,
   "id": "8fb621a9",
   "metadata": {},
   "outputs": [
    {
     "name": "stdout",
     "output_type": "stream",
     "text": [
      "Here are answers to your three questions:\n",
      "\n",
      "1. Who won the Super Bowl in 2024?\n",
      "   - The Kansas City Chiefs won the Super Bowl in 2024, defeating the San Francisco 49ers in overtime by a score of 25-22.\n",
      "\n",
      "2. In what state is the winning team headquarters located?\n",
      "   - The Kansas City Chiefs are headquartered in the state of Missouri.\n",
      "\n",
      "3. What is the GDP of that state?\n",
      "   - Missouri's GDP in 2024 is not among the top-ranked states and specific figures don't appear in the highest lists above. However, Missouri's GDP in recent years has been approximately $370–$380 billion. (For comparison: California, Texas, and New York, the largest state economies, have GDPs of over $2 trillion.)\n",
      "\n",
      "If you want the most precise and current Missouri GDP figure for 2024, let me know and I can retrieve it!\n"
     ]
    }
   ],
   "source": [
    "print(result['messages'][-1].content)"
   ]
  }
 ],
 "metadata": {
  "kernelspec": {
   "display_name": "venv (3.13.5)",
   "language": "python",
   "name": "python3"
  },
  "language_info": {
   "codemirror_mode": {
    "name": "ipython",
    "version": 3
   },
   "file_extension": ".py",
   "mimetype": "text/x-python",
   "name": "python",
   "nbconvert_exporter": "python",
   "pygments_lexer": "ipython3",
   "version": "3.13.5"
  }
 },
 "nbformat": 4,
 "nbformat_minor": 5
}
